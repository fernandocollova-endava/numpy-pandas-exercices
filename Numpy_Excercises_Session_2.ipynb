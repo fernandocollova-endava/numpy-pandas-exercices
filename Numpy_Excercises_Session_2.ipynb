{
 "cells": [
  {
   "cell_type": "code",
   "execution_count": 4,
   "metadata": {
    "colab": {},
    "colab_type": "code",
    "id": "yZec5gdQULml"
   },
   "outputs": [],
   "source": [
    "import numpy as np"
   ]
  },
  {
   "cell_type": "markdown",
   "metadata": {
    "colab_type": "text",
    "id": "ocOTIuRvURnK"
   },
   "source": [
    "# Numpy Excercises - Session 2"
   ]
  },
  {
   "cell_type": "markdown",
   "metadata": {
    "colab_type": "text",
    "id": "zgZNJN1vre4L"
   },
   "source": [
    "### Exercise 1\n",
    "\n",
    "Reshape `array1` to 7x3 dimensions."
   ]
  },
  {
   "cell_type": "code",
   "execution_count": 14,
   "metadata": {
    "colab": {},
    "colab_type": "code",
    "id": "GcnNr53nri09"
   },
   "outputs": [
    {
     "data": {
      "text/plain": [
       "array([[ 0,  1,  2],\n",
       "       [ 3,  4,  5],\n",
       "       [ 6,  7,  8],\n",
       "       [ 9, 10, 11],\n",
       "       [12, 13, 14],\n",
       "       [15, 16, 17],\n",
       "       [18, 19, 20]])"
      ]
     },
     "execution_count": 14,
     "metadata": {},
     "output_type": "execute_result"
    }
   ],
   "source": [
    "array1 = np.arange(0, 21)\n",
    "array1.reshape(7,3)"
   ]
  },
  {
   "cell_type": "markdown",
   "metadata": {
    "colab_type": "text",
    "id": "LBXx2nR5uOdm"
   },
   "source": [
    "### Exercise 2\n",
    "\n",
    "Reshape `array2` into a 3D array of 3x3x3 dimensions."
   ]
  },
  {
   "cell_type": "code",
   "execution_count": 8,
   "metadata": {
    "colab": {},
    "colab_type": "code",
    "id": "-ODB-hFEucck"
   },
   "outputs": [
    {
     "data": {
      "text/plain": [
       "array([[[ 0,  1,  2],\n",
       "        [ 3,  4,  5],\n",
       "        [ 6,  7,  8]],\n",
       "\n",
       "       [[ 9, 10, 11],\n",
       "        [12, 13, 14],\n",
       "        [15, 16, 17]],\n",
       "\n",
       "       [[18, 19, 20],\n",
       "        [21, 22, 23],\n",
       "        [24, 25, 26]]])"
      ]
     },
     "execution_count": 8,
     "metadata": {},
     "output_type": "execute_result"
    }
   ],
   "source": [
    "array2 = np.arange(0, 27).reshape(9, 3)\n",
    "array2.reshape(3, 3, 3)"
   ]
  },
  {
   "cell_type": "markdown",
   "metadata": {
    "colab_type": "text",
    "id": "zjohGksuysL3"
   },
   "source": [
    "### Exercise 3: Reshape vs Resize\n",
    "\n",
    "reshape and resize both do the same thin. So, what's the difference?\n",
    "\n",
    "Follow the instructions and find out.\n"
   ]
  },
  {
   "cell_type": "code",
   "execution_count": 13,
   "metadata": {
    "colab": {
     "base_uri": "https://localhost:8080/",
     "height": 84
    },
    "colab_type": "code",
    "id": "RMefunZBypgP",
    "outputId": "ba36ebd7-4136-44d1-d5f6-24877dfecce6"
   },
   "outputs": [
    {
     "name": "stdout",
     "output_type": "stream",
     "text": [
      "[0 1 2 3 4 5 6 7 8]\n",
      "[[0 1 2]\n",
      " [3 4 5]\n",
      " [6 7 8]]\n"
     ]
    }
   ],
   "source": [
    "# Run this cell without changing the code.\n",
    "array3 = np.arange(0, 9)\n",
    "\n",
    "array3.reshape((3, 3))\n",
    "print(array3)\n",
    "\n",
    "array3.resize((3, 3))\n",
    "print(array3)\n"
   ]
  },
  {
   "cell_type": "code",
   "execution_count": null,
   "metadata": {
    "colab": {},
    "colab_type": "code",
    "id": "ReT0Y4Xo0M7k"
   },
   "outputs": [],
   "source": [
    "# Question: What is the difference between reshape and resize\n",
    "\n",
    "a = \"resize returns a new copy of the array, while reshape changes the original array\"\n",
    "b = \"reshape returns a new copy of the array, while resize changes the original array\"\n",
    "c = \"both resize and reshape works in the same way with the original array\"\n",
    "#test3()"
   ]
  },
  {
   "cell_type": "markdown",
   "metadata": {
    "colab_type": "text",
    "id": "BzXy1g-4wYhJ"
   },
   "source": [
    "### Exercise 4\n",
    "\n",
    "Concatenate arrays `a`, `b`, and `c`."
   ]
  },
  {
   "cell_type": "code",
   "execution_count": 27,
   "metadata": {
    "colab": {},
    "colab_type": "code",
    "id": "jEziRUU6wniR"
   },
   "outputs": [
    {
     "data": {
      "text/plain": [
       "array([0, 1, 2, 3, 4, 5, 6, 7, 8])"
      ]
     },
     "execution_count": 27,
     "metadata": {},
     "output_type": "execute_result"
    }
   ],
   "source": [
    "print(np.arange(0, 3))\n",
    "print(np.arange(3, 6))\n",
    "print(np.arange(6, 9))\n",
    "print(np.concatenate((a,b,c)))"
   ]
  },
  {
   "cell_type": "markdown",
   "metadata": {
    "colab_type": "text",
    "id": "UZf-j3DekNJ1"
   },
   "source": [
    "### Exercise 5\n",
    "\n",
    "Concatenate arrays `m1` and `m2` vertically."
   ]
  },
  {
   "cell_type": "code",
   "execution_count": 31,
   "metadata": {
    "colab": {},
    "colab_type": "code",
    "id": "zWBry5m0i6Rd"
   },
   "outputs": [
    {
     "data": {
      "text/plain": [
       "array([[ 1,  2,  3,  4],\n",
       "       [ 5,  6,  7,  8],\n",
       "       [ 9, 10, 11, 12],\n",
       "       [13, 14, 15, 16]])"
      ]
     },
     "execution_count": 31,
     "metadata": {},
     "output_type": "execute_result"
    }
   ],
   "source": [
    "m1 = np.array(\n",
    "    [\n",
    "      [1, 2, 3, 4],\n",
    "      [5, 6, 7, 8]\n",
    "    ]\n",
    ")\n",
    "\n",
    "m2 = np.array(\n",
    "    [\n",
    "      [9, 10, 11, 12],\n",
    "      [13, 14, 15, 16]\n",
    "    ]\n",
    ")\n",
    "np.concatenate((m1,m2))"
   ]
  },
  {
   "cell_type": "markdown",
   "metadata": {
    "colab_type": "text",
    "id": "4qQ06IZ1k-TG"
   },
   "source": [
    "### Exercise 6\n",
    "\n",
    "Concatenate arrays `m1` and `m2` horizontally."
   ]
  },
  {
   "cell_type": "code",
   "execution_count": 32,
   "metadata": {
    "colab": {},
    "colab_type": "code",
    "id": "jsy33sJ7lFN4"
   },
   "outputs": [
    {
     "data": {
      "text/plain": [
       "array([[ 1,  2,  3,  4,  9, 10, 11, 12],\n",
       "       [ 5,  6,  7,  8, 13, 14, 15, 16]])"
      ]
     },
     "execution_count": 32,
     "metadata": {},
     "output_type": "execute_result"
    }
   ],
   "source": [
    "m1 = np.array(\n",
    "    [\n",
    "      [1, 2, 3, 4],\n",
    "      [5, 6, 7, 8]\n",
    "    ]\n",
    ")\n",
    "\n",
    "m2 = np.array(\n",
    "    [\n",
    "      [9, 10, 11, 12],\n",
    "      [13, 14, 15, 16]\n",
    "    ]\n",
    ")\n",
    "np.concatenate((m1,m2), axis=1)"
   ]
  },
  {
   "cell_type": "markdown",
   "metadata": {
    "colab_type": "text",
    "id": "EZzFNnxx26iu"
   },
   "source": [
    "### Exercise 7\n",
    "\n",
    "Get all the cells with value equals to `0` as a list of tuples.\n"
   ]
  },
  {
   "cell_type": "code",
   "execution_count": 35,
   "metadata": {
    "colab": {},
    "colab_type": "code",
    "id": "-_pITT1w3Mys"
   },
   "outputs": [
    {
     "data": {
      "text/plain": [
       "array([[False, False, False, False,  True],\n",
       "       [ True, False, False,  True, False],\n",
       "       [False, False,  True, False, False],\n",
       "       [False, False,  True, False,  True],\n",
       "       [False, False, False,  True, False]])"
      ]
     },
     "execution_count": 35,
     "metadata": {},
     "output_type": "execute_result"
    }
   ],
   "source": [
    "matrix = np.array([\n",
    "    [1, 4, 7, 5, 0],\n",
    "    [0, 2, 9, 0, 1],\n",
    "    [3, 6, 0, 5, 3],\n",
    "    [7, 3, 0, 1, 0],\n",
    "    [3, 6, 1, 0, 4],\n",
    "])\n",
    "matrix==0"
   ]
  },
  {
   "cell_type": "markdown",
   "metadata": {
    "colab_type": "text",
    "id": "j15fagt-_9Sv"
   },
   "source": [
    "### Exercise 8\n",
    "\n",
    "Check the documentation for `np.diag` and `np.fliplr`. Use them to extract the diagonals arrays for `matrix`.\n",
    "\n"
   ]
  },
  {
   "cell_type": "code",
   "execution_count": 260,
   "metadata": {
    "colab": {},
    "colab_type": "code",
    "id": "0C4VA6H6B0Qn"
   },
   "outputs": [
    {
     "name": "stdout",
     "output_type": "stream",
     "text": [
      "[1 2 0 1 4]\n",
      "[0 0 0 3 3]\n"
     ]
    }
   ],
   "source": [
    "matrix = np.array([\n",
    "    [1, 4, 7, 5, 0],\n",
    "    [0, 2, 9, 0, 1],\n",
    "    [3, 6, 0, 5, 3],\n",
    "    [7, 3, 0, 1, 0],\n",
    "    [3, 6, 1, 0, 4],\n",
    "])\n",
    "print(np.diag(matrix))\n",
    "print(np.diag(np.fliplr(matrix)))"
   ]
  },
  {
   "cell_type": "markdown",
   "metadata": {
    "colab_type": "text",
    "id": "-4_ujD9rCCKg"
   },
   "source": [
    "### Exercise 9\n",
    "\n",
    "Get the values of the 3th column in `matrix` and the values for the 2th row in `matrix`. Both as numpy arrays.\n"
   ]
  },
  {
   "cell_type": "code",
   "execution_count": 235,
   "metadata": {
    "colab": {},
    "colab_type": "code",
    "id": "75SKt_ydCfCr"
   },
   "outputs": [
    {
     "name": "stdout",
     "output_type": "stream",
     "text": [
      "[[7]\n",
      " [9]\n",
      " [0]\n",
      " [0]\n",
      " [1]]\n",
      "[[0 2 9 0 1]]\n"
     ]
    }
   ],
   "source": [
    "matrix = np.array([\n",
    "    [1, 4, 7, 5, 0],\n",
    "    [0, 2, 9, 0, 1],\n",
    "    [3, 6, 0, 5, 3],\n",
    "    [7, 3, 0, 1, 0],\n",
    "    [3, 6, 1, 0, 4],\n",
    "])\n",
    "print(matrix[:,2:3])\n",
    "print(matrix[1:2])"
   ]
  },
  {
   "cell_type": "markdown",
   "metadata": {
    "colab_type": "text",
    "id": "FAYxMRG4jJUt"
   },
   "source": [
    "## Exercise 10\n",
    "\n",
    "Create a new matrix ***x*** from ***a*** and ***m*** with the folowing structure:\n",
    "\n",
    "\n",
    "\n",
    "```\n",
    "array([[4, 4, 5, 4, 4],\n",
    "       [4, 4, 5, 4, 4],\n",
    "       [4, 4, 5, 4, 4]])\n",
    "```\n",
    "\n"
   ]
  },
  {
   "cell_type": "code",
   "execution_count": 254,
   "metadata": {
    "colab": {},
    "colab_type": "code",
    "id": "n_pobdHRjIVl"
   },
   "outputs": [
    {
     "name": "stdout",
     "output_type": "stream",
     "text": [
      "[[4 4]\n",
      " [4 4]\n",
      " [4 4]]\n",
      "[[5]\n",
      " [5]\n",
      " [5]]\n"
     ]
    },
    {
     "data": {
      "text/plain": [
       "array([[4, 4, 5, 4, 4],\n",
       "       [4, 4, 5, 4, 4],\n",
       "       [4, 4, 5, 4, 4]])"
      ]
     },
     "execution_count": 254,
     "metadata": {},
     "output_type": "execute_result"
    }
   ],
   "source": [
    "a = np.full((3, 1), 5)\n",
    "m = np.full((3, 4), 4)\n",
    "np.concatenate((m[:,:2], a, m[:,2:]), axis=1)\n"
   ]
  },
  {
   "cell_type": "markdown",
   "metadata": {
    "colab_type": "text",
    "id": "5FkJzPeGAZMv"
   },
   "source": [
    "## Exercise 11\n",
    "\n",
    "Given a:\n",
    "\n",
    "```\n",
    "a = array([[1],\n",
    "       [1],\n",
    "       [2],\n",
    "       [4]])\n",
    "```\n",
    "\n",
    "Create a new array **b** with the following structure:\n",
    "\n",
    "```\n",
    "np.array([\n",
    "  [1, 0, 0],\n",
    "  [1, 0, 0],\n",
    "  [0, 1, 0],\n",
    "  [0, 0, 1],\n",
    "])\n",
    "```\n",
    "Do you detect the pattern? Which operation do you need to create this structure.?\n",
    "\n",
    "\n"
   ]
  },
  {
   "cell_type": "code",
   "execution_count": 234,
   "metadata": {
    "colab": {},
    "colab_type": "code",
    "id": "FqBLf9h6AdRo"
   },
   "outputs": [
    {
     "data": {
      "text/plain": [
       "array([[1, 0, 0],\n",
       "       [1, 0, 0],\n",
       "       [0, 1, 0],\n",
       "       [0, 0, 1]])"
      ]
     },
     "execution_count": 234,
     "metadata": {},
     "output_type": "execute_result"
    }
   ],
   "source": [
    "a = np.array(\n",
    "      [[1],\n",
    "       [1],\n",
    "       [2],\n",
    "       [4]]\n",
    ")\n",
    "(a & np.array([1, 2, 4]) > 0).astype(int)"
   ]
  },
  {
   "cell_type": "markdown",
   "metadata": {
    "colab_type": "text",
    "id": "ZRGKiKtAw-NO"
   },
   "source": [
    "# Challenge, Tic Tac Toe\n"
   ]
  },
  {
   "cell_type": "code",
   "execution_count": null,
   "metadata": {
    "colab": {},
    "colab_type": "code",
    "id": "zXFw_11UxFYb"
   },
   "outputs": [],
   "source": [
    "cell = {\n",
    "    0: ' ',\n",
    "    1: 'X',\n",
    "    2: 'O'\n",
    "}\n",
    "\n",
    "def print_board():\n",
    "  print('-------------')\n",
    "  print(f'| {cell[game[0][0]]} | {cell[game[0][1]]} | {cell[game[0][2]]} |')\n",
    "  print('-------------')\n",
    "  print(f'| {cell[game[1][0]]} | {cell[game[1][1]]} | {cell[game[1][2]]} |')\n",
    "  print('-------------')\n",
    "  print(f'| {cell[game[2][0]]} | {cell[game[2][1]]} | {cell[game[2][2]]} |')\n",
    "  print('-------------')\n",
    "\n",
    "def skynet_move():\n",
    "  # Select a random empty cell in `game` array and set with value `2`.\n",
    "  # If no empty cells available, do nothing.\n",
    "  pass\n",
    "\n",
    "def win_move(player, r, c):\n",
    "  # Check if the player's move is a win move.\n",
    "  # A win move meets one of these conditions:\n",
    "  #   - All values at row `r` are equal to `player`.\n",
    "  #   - All values at column `c` are equal to `player`.\n",
    "  #   - All values at main diagonal ((0, 0) to (2, 2)) are equal to  `player`.\n",
    "  #   - All values at second diagonal ((2, 0) to (0, 2)) are equal to  `player`.\n",
    "  # Return True if one of the conditions are met, False otherwise.\n",
    "\n",
    "    pass\n",
    "\n",
    "\n",
    "def human_move(r, c):\n",
    "  # Set value `1` at game[r][c] if the cell if empty and return True.\n",
    "  # If cell is not empty print \"Cell is not empty\" and return False.\n",
    "  pass\n",
    "\n",
    "def winner_exists():\n",
    "  # If one of the players has already won the game, return True.\n",
    "  # Return False otherwise.\n",
    "  pass\n",
    "\n",
    "\n",
    "def is_game_on():\n",
    "  # This method checks the current status of the game.\n",
    "  # A game is on if meets one of two conditios:\n",
    "  #  - There is still available cells.\n",
    "  #  - There is still no winners.  \n",
    "  pass"
   ]
  },
  {
   "cell_type": "code",
   "execution_count": null,
   "metadata": {
    "colab": {},
    "colab_type": "code",
    "id": "wmWZQJFA2Hl5"
   },
   "outputs": [],
   "source": [
    "# Run this cell to restart the game.\n",
    "\n",
    "# Create a 3x3 array with zero values.\n",
    "#game = "
   ]
  },
  {
   "cell_type": "code",
   "execution_count": null,
   "metadata": {
    "cellView": "both",
    "colab": {},
    "colab_type": "code",
    "id": "ErKaf7bw2X2Z"
   },
   "outputs": [],
   "source": [
    "#@title Tic tac toe controls\n",
    "#@markdown Select the cell for your next move!.\n",
    "row_value = \"2\" #@param [\"0\", \"1\", \"2\"] \n",
    "column_value = \"2\" #@param [\"0\", \"1\", \"2\"]\n",
    "\n",
    "row = int(row_value)\n",
    "column = int(column_value)\n",
    "if(is_game_on()):\n",
    "  status = human_move(row, column)\n",
    "  if(win_move(1, row, column)):\n",
    "    print('Human wins')\n",
    "  elif(status):\n",
    "    skynet_move()\n",
    "    if(win_move(2, row, column)):\n",
    "      print('Skynet wins')\n",
    "else:\n",
    "  print('Game over.')\n",
    "  \n",
    "print_board()\n",
    "\n",
    "https://bitbucket.org/fernandocollova/nubi/src/numpy_version/\n"
   ]
  },
  {
   "cell_type": "markdown",
   "metadata": {
    "colab_type": "text",
    "id": "2Gl4XHf6JN24"
   },
   "source": [
    "# Challenge: Basic data analysis\n",
    "\n",
    "The following numpy array is taken from the a census dataset. Every column in this matrix contains some demografic information. For this exercise You will focus in the following columns:\n",
    "\n",
    "*   Column[0]: Age\n",
    "*   Column[1]: workclass\n",
    "*   Column[3]: education\n",
    "*   Column[5]: marital-status\n",
    "*   Column[9]: sex\n",
    "*   Column[10]: capital-gain\n",
    "\n",
    "Please find the following information:\n",
    "\n",
    "\n",
    "*   Age average\n",
    "*   Types of workclass, education and marital-status\n",
    "*   How many records are for male\n",
    "*   How many records are for female\n",
    "*   How many females are above age of 30\n",
    "*   Avergage of capital-gain for males\n",
    "*   Avergage of capital-gain for females\n",
    "\n",
    "\n",
    "\n",
    "\n",
    "\n"
   ]
  },
  {
   "cell_type": "code",
   "execution_count": 233,
   "metadata": {
    "colab": {
     "base_uri": "https://localhost:8080/",
     "height": 168
    },
    "colab_type": "code",
    "id": "6deAST4wJiHf",
    "outputId": "7f171d4d-6549-4a27-aabf-e443b14db9a5"
   },
   "outputs": [
    {
     "name": "stdout",
     "output_type": "stream",
     "text": [
      "38.581633906633904\n",
      "[' ?' ' Federal-gov' ' Local-gov' ' Never-worked' ' Private'\n",
      " ' Self-emp-inc' ' Self-emp-not-inc' ' State-gov' ' Without-pay']\n",
      "[12285 13769 14878 ... 1366120 1455435 1484705]\n",
      "[' 10th' ' 11th' ' 12th' ' 1st-4th' ' 5th-6th' ' 7th-8th' ' 9th'\n",
      " ' Assoc-acdm' ' Assoc-voc' ' Bachelors' ' Doctorate' ' HS-grad'\n",
      " ' Masters' ' Preschool' ' Prof-school' ' Some-college']\n",
      "21789\n",
      "10771\n",
      "[10771 10771 10771 ... 10771     0 10771]\n"
     ]
    },
    {
     "data": {
      "text/plain": [
       "1329.3313139657625"
      ]
     },
     "execution_count": 233,
     "metadata": {},
     "output_type": "execute_result"
    }
   ],
   "source": [
    "# First upload file \"census.npy\" befor running this cell.\n",
    "with open('census.npy', 'rb') as f:\n",
    "  census_data = np.load(f, allow_pickle=True)\n",
    "\n",
    "print(np.average(np.array(census_data[:,0], dtype=int)))\n",
    "print(np.unique(census_data[:,1]))\n",
    "print(np.unique(census_data[:,2]))\n",
    "print(np.unique(census_data[:,3]))\n",
    "print(sum(census_data[:,9] == ' Male'))\n",
    "print(sum(census_data[:,9] == ' Female'))\n",
    "print(sum(np.bitwise_and(census_data[:,9:10] == ' Female', np.array(census_data[:,:1].flatten(), dtype=int) > 30)))\n",
    "print(census_data[(census_data[:,9] == ' Female'), 10].mean())\n",
    "print(census_data[(census_data[:,9] == ' Male'), 10].mean())\n"
   ]
  }
 ],
 "metadata": {
  "colab": {
   "name": "Numpy Excercises - Session 2.ipynb",
   "provenance": []
  },
  "kernelspec": {
   "display_name": "Python 3",
   "name": "python3"
  },
  "language_info": {
   "name": ""
  }
 },
 "nbformat": 4,
 "nbformat_minor": 4
}
